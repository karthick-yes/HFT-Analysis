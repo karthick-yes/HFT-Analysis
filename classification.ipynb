{
 "cells": [
  {
   "cell_type": "code",
   "execution_count": 1,
   "metadata": {},
   "outputs": [],
   "source": [
    "import pandas as pd\n",
    "import numpy as np\n",
    "import warnings\n",
    "warnings.filterwarnings('ignore')\n",
    "import matplotlib.pyplot as plt"
   ]
  },
  {
   "cell_type": "code",
   "execution_count": 2,
   "metadata": {},
   "outputs": [],
   "source": [
    "file = 'BTC.csv'\n",
    "data = pd.read_csv(file, parse_dates=['time'], index_col=\"time\",low_memory = False)\n",
    "data['time'] = data.index"
   ]
  },
  {
   "cell_type": "code",
   "execution_count": 14,
   "metadata": {},
   "outputs": [
    {
     "name": "stdout",
     "output_type": "stream",
     "text": [
      "There are 2,169,450 trades\n"
     ]
    }
   ],
   "source": [
    "print(\"There are {:,} trades\".format(data.shape[0]))"
   ]
  },
  {
   "cell_type": "code",
   "execution_count": 13,
   "metadata": {},
   "outputs": [
    {
     "name": "stdout",
     "output_type": "stream",
     "text": [
      "There are 723,880 orders\n"
     ]
    }
   ],
   "source": [
    "print(\"There are {:,} orders\".format(data.order_id.nunique()))"
   ]
  },
  {
   "cell_type": "code",
   "execution_count": 3,
   "metadata": {},
   "outputs": [],
   "source": [
    "#main goal is to figure out the different types of order, precisely we have to classify order as flashed order, and normal order.(So a Binary Classifier)\n",
    "#first of all figure out all the essential features\n",
    " # plot the correlation matrix\n",
    " # try making new features, check their correlation\n",
    " # anyways random forest tree has a method which will return the most important featrues\n",
    "#make a column transformer to encode/convert the categorical columns \n",
    "#make a pipeline for transforming the columns, then scaling it\n",
    "#make a stratified test split, count the number of total events, stratify based on the distribution of different events.\n",
    "#train and a fit a model on the train data,"
   ]
  },
  {
   "cell_type": "code",
   "execution_count": 4,
   "metadata": {},
   "outputs": [
    {
     "data": {
      "text/html": [
       "<div>\n",
       "<style scoped>\n",
       "    .dataframe tbody tr th:only-of-type {\n",
       "        vertical-align: middle;\n",
       "    }\n",
       "\n",
       "    .dataframe tbody tr th {\n",
       "        vertical-align: top;\n",
       "    }\n",
       "\n",
       "    .dataframe thead th {\n",
       "        text-align: right;\n",
       "    }\n",
       "</style>\n",
       "<table border=\"1\" class=\"dataframe\">\n",
       "  <thead>\n",
       "    <tr style=\"text-align: right;\">\n",
       "      <th></th>\n",
       "      <th>client_oid</th>\n",
       "      <th>funds</th>\n",
       "      <th>maker_order_id</th>\n",
       "      <th>order_id</th>\n",
       "      <th>order_type</th>\n",
       "      <th>price</th>\n",
       "      <th>product_id</th>\n",
       "      <th>reason</th>\n",
       "      <th>remaining_size</th>\n",
       "      <th>sequence</th>\n",
       "      <th>side</th>\n",
       "      <th>size</th>\n",
       "      <th>taker_order_id</th>\n",
       "      <th>trade_id</th>\n",
       "      <th>type</th>\n",
       "      <th>bid</th>\n",
       "      <th>ask</th>\n",
       "      <th>time</th>\n",
       "    </tr>\n",
       "    <tr>\n",
       "      <th>time</th>\n",
       "      <th></th>\n",
       "      <th></th>\n",
       "      <th></th>\n",
       "      <th></th>\n",
       "      <th></th>\n",
       "      <th></th>\n",
       "      <th></th>\n",
       "      <th></th>\n",
       "      <th></th>\n",
       "      <th></th>\n",
       "      <th></th>\n",
       "      <th></th>\n",
       "      <th></th>\n",
       "      <th></th>\n",
       "      <th></th>\n",
       "      <th></th>\n",
       "      <th></th>\n",
       "      <th></th>\n",
       "    </tr>\n",
       "  </thead>\n",
       "  <tbody>\n",
       "    <tr>\n",
       "      <th>2017-07-21 08:52:06.163</th>\n",
       "      <td>150051ad-336a-4429-a1f7-e8e6c07a30fb</td>\n",
       "      <td>NaN</td>\n",
       "      <td>NaN</td>\n",
       "      <td>6fdae78f-f00f-4dee-95f2-0ffb6ca2dfb4</td>\n",
       "      <td>limit</td>\n",
       "      <td>2715.35</td>\n",
       "      <td>BTC-USD</td>\n",
       "      <td>NaN</td>\n",
       "      <td>NaN</td>\n",
       "      <td>3649404788</td>\n",
       "      <td>buy</td>\n",
       "      <td>0.089439</td>\n",
       "      <td>NaN</td>\n",
       "      <td>NaN</td>\n",
       "      <td>received</td>\n",
       "      <td>2715.35</td>\n",
       "      <td>NaN</td>\n",
       "      <td>2017-07-21 08:52:06.163</td>\n",
       "    </tr>\n",
       "    <tr>\n",
       "      <th>2017-07-21 08:52:06.163</th>\n",
       "      <td>NaN</td>\n",
       "      <td>NaN</td>\n",
       "      <td>NaN</td>\n",
       "      <td>6fdae78f-f00f-4dee-95f2-0ffb6ca2dfb4</td>\n",
       "      <td>NaN</td>\n",
       "      <td>2715.35</td>\n",
       "      <td>BTC-USD</td>\n",
       "      <td>NaN</td>\n",
       "      <td>0.089439</td>\n",
       "      <td>3649404789</td>\n",
       "      <td>buy</td>\n",
       "      <td>NaN</td>\n",
       "      <td>NaN</td>\n",
       "      <td>NaN</td>\n",
       "      <td>open</td>\n",
       "      <td>2715.35</td>\n",
       "      <td>NaN</td>\n",
       "      <td>2017-07-21 08:52:06.163</td>\n",
       "    </tr>\n",
       "    <tr>\n",
       "      <th>2017-07-21 08:52:06.165</th>\n",
       "      <td>NaN</td>\n",
       "      <td>NaN</td>\n",
       "      <td>NaN</td>\n",
       "      <td>a7d073fb-c741-4f87-8a43-699462e597a4</td>\n",
       "      <td>NaN</td>\n",
       "      <td>2708.71</td>\n",
       "      <td>BTC-USD</td>\n",
       "      <td>canceled</td>\n",
       "      <td>0.200000</td>\n",
       "      <td>3649404790</td>\n",
       "      <td>buy</td>\n",
       "      <td>NaN</td>\n",
       "      <td>NaN</td>\n",
       "      <td>NaN</td>\n",
       "      <td>done</td>\n",
       "      <td>2715.35</td>\n",
       "      <td>NaN</td>\n",
       "      <td>2017-07-21 08:52:06.165</td>\n",
       "    </tr>\n",
       "    <tr>\n",
       "      <th>2017-07-21 08:52:06.167</th>\n",
       "      <td>NaN</td>\n",
       "      <td>NaN</td>\n",
       "      <td>NaN</td>\n",
       "      <td>5936f368-9b87-477e-9adc-83f14a525491</td>\n",
       "      <td>NaN</td>\n",
       "      <td>2708.66</td>\n",
       "      <td>BTC-USD</td>\n",
       "      <td>canceled</td>\n",
       "      <td>0.500000</td>\n",
       "      <td>3649404791</td>\n",
       "      <td>buy</td>\n",
       "      <td>NaN</td>\n",
       "      <td>NaN</td>\n",
       "      <td>NaN</td>\n",
       "      <td>done</td>\n",
       "      <td>2715.35</td>\n",
       "      <td>NaN</td>\n",
       "      <td>2017-07-21 08:52:06.167</td>\n",
       "    </tr>\n",
       "    <tr>\n",
       "      <th>2017-07-21 08:52:06.168</th>\n",
       "      <td>NaN</td>\n",
       "      <td>NaN</td>\n",
       "      <td>NaN</td>\n",
       "      <td>71dbb9bf-8a6c-4c0b-8ca2-259d16be43e1</td>\n",
       "      <td>NaN</td>\n",
       "      <td>2708.71</td>\n",
       "      <td>BTC-USD</td>\n",
       "      <td>canceled</td>\n",
       "      <td>0.200000</td>\n",
       "      <td>3649404792</td>\n",
       "      <td>buy</td>\n",
       "      <td>NaN</td>\n",
       "      <td>NaN</td>\n",
       "      <td>NaN</td>\n",
       "      <td>done</td>\n",
       "      <td>2715.35</td>\n",
       "      <td>NaN</td>\n",
       "      <td>2017-07-21 08:52:06.168</td>\n",
       "    </tr>\n",
       "  </tbody>\n",
       "</table>\n",
       "</div>"
      ],
      "text/plain": [
       "                                                   client_oid  funds  \\\n",
       "time                                                                   \n",
       "2017-07-21 08:52:06.163  150051ad-336a-4429-a1f7-e8e6c07a30fb    NaN   \n",
       "2017-07-21 08:52:06.163                                   NaN    NaN   \n",
       "2017-07-21 08:52:06.165                                   NaN    NaN   \n",
       "2017-07-21 08:52:06.167                                   NaN    NaN   \n",
       "2017-07-21 08:52:06.168                                   NaN    NaN   \n",
       "\n",
       "                        maker_order_id                              order_id  \\\n",
       "time                                                                           \n",
       "2017-07-21 08:52:06.163            NaN  6fdae78f-f00f-4dee-95f2-0ffb6ca2dfb4   \n",
       "2017-07-21 08:52:06.163            NaN  6fdae78f-f00f-4dee-95f2-0ffb6ca2dfb4   \n",
       "2017-07-21 08:52:06.165            NaN  a7d073fb-c741-4f87-8a43-699462e597a4   \n",
       "2017-07-21 08:52:06.167            NaN  5936f368-9b87-477e-9adc-83f14a525491   \n",
       "2017-07-21 08:52:06.168            NaN  71dbb9bf-8a6c-4c0b-8ca2-259d16be43e1   \n",
       "\n",
       "                        order_type    price product_id    reason  \\\n",
       "time                                                               \n",
       "2017-07-21 08:52:06.163      limit  2715.35    BTC-USD       NaN   \n",
       "2017-07-21 08:52:06.163        NaN  2715.35    BTC-USD       NaN   \n",
       "2017-07-21 08:52:06.165        NaN  2708.71    BTC-USD  canceled   \n",
       "2017-07-21 08:52:06.167        NaN  2708.66    BTC-USD  canceled   \n",
       "2017-07-21 08:52:06.168        NaN  2708.71    BTC-USD  canceled   \n",
       "\n",
       "                         remaining_size    sequence side      size  \\\n",
       "time                                                                 \n",
       "2017-07-21 08:52:06.163             NaN  3649404788  buy  0.089439   \n",
       "2017-07-21 08:52:06.163        0.089439  3649404789  buy       NaN   \n",
       "2017-07-21 08:52:06.165        0.200000  3649404790  buy       NaN   \n",
       "2017-07-21 08:52:06.167        0.500000  3649404791  buy       NaN   \n",
       "2017-07-21 08:52:06.168        0.200000  3649404792  buy       NaN   \n",
       "\n",
       "                        taker_order_id  trade_id      type      bid  ask  \\\n",
       "time                                                                       \n",
       "2017-07-21 08:52:06.163            NaN       NaN  received  2715.35  NaN   \n",
       "2017-07-21 08:52:06.163            NaN       NaN      open  2715.35  NaN   \n",
       "2017-07-21 08:52:06.165            NaN       NaN      done  2715.35  NaN   \n",
       "2017-07-21 08:52:06.167            NaN       NaN      done  2715.35  NaN   \n",
       "2017-07-21 08:52:06.168            NaN       NaN      done  2715.35  NaN   \n",
       "\n",
       "                                           time  \n",
       "time                                             \n",
       "2017-07-21 08:52:06.163 2017-07-21 08:52:06.163  \n",
       "2017-07-21 08:52:06.163 2017-07-21 08:52:06.163  \n",
       "2017-07-21 08:52:06.165 2017-07-21 08:52:06.165  \n",
       "2017-07-21 08:52:06.167 2017-07-21 08:52:06.167  \n",
       "2017-07-21 08:52:06.168 2017-07-21 08:52:06.168  "
      ]
     },
     "execution_count": 4,
     "metadata": {},
     "output_type": "execute_result"
    }
   ],
   "source": [
    "data.head()"
   ]
  },
  {
   "cell_type": "code",
   "execution_count": 5,
   "metadata": {},
   "outputs": [
    {
     "data": {
      "text/html": [
       "<div>\n",
       "<style scoped>\n",
       "    .dataframe tbody tr th:only-of-type {\n",
       "        vertical-align: middle;\n",
       "    }\n",
       "\n",
       "    .dataframe tbody tr th {\n",
       "        vertical-align: top;\n",
       "    }\n",
       "\n",
       "    .dataframe thead th {\n",
       "        text-align: right;\n",
       "    }\n",
       "</style>\n",
       "<table border=\"1\" class=\"dataframe\">\n",
       "  <thead>\n",
       "    <tr style=\"text-align: right;\">\n",
       "      <th></th>\n",
       "      <th>funds</th>\n",
       "      <th>order_id</th>\n",
       "      <th>order_type</th>\n",
       "      <th>price</th>\n",
       "      <th>reason</th>\n",
       "      <th>remaining_size</th>\n",
       "      <th>side</th>\n",
       "      <th>size</th>\n",
       "      <th>type</th>\n",
       "      <th>bid</th>\n",
       "      <th>ask</th>\n",
       "      <th>time</th>\n",
       "    </tr>\n",
       "    <tr>\n",
       "      <th>time</th>\n",
       "      <th></th>\n",
       "      <th></th>\n",
       "      <th></th>\n",
       "      <th></th>\n",
       "      <th></th>\n",
       "      <th></th>\n",
       "      <th></th>\n",
       "      <th></th>\n",
       "      <th></th>\n",
       "      <th></th>\n",
       "      <th></th>\n",
       "      <th></th>\n",
       "    </tr>\n",
       "  </thead>\n",
       "  <tbody>\n",
       "    <tr>\n",
       "      <th>2017-07-21 08:52:06.163</th>\n",
       "      <td>NaN</td>\n",
       "      <td>6fdae78f-f00f-4dee-95f2-0ffb6ca2dfb4</td>\n",
       "      <td>limit</td>\n",
       "      <td>2715.35</td>\n",
       "      <td>NaN</td>\n",
       "      <td>NaN</td>\n",
       "      <td>buy</td>\n",
       "      <td>0.089439</td>\n",
       "      <td>received</td>\n",
       "      <td>2715.35</td>\n",
       "      <td>NaN</td>\n",
       "      <td>2017-07-21 08:52:06.163</td>\n",
       "    </tr>\n",
       "    <tr>\n",
       "      <th>2017-07-21 08:52:06.163</th>\n",
       "      <td>NaN</td>\n",
       "      <td>6fdae78f-f00f-4dee-95f2-0ffb6ca2dfb4</td>\n",
       "      <td>NaN</td>\n",
       "      <td>2715.35</td>\n",
       "      <td>NaN</td>\n",
       "      <td>0.089439</td>\n",
       "      <td>buy</td>\n",
       "      <td>NaN</td>\n",
       "      <td>open</td>\n",
       "      <td>2715.35</td>\n",
       "      <td>NaN</td>\n",
       "      <td>2017-07-21 08:52:06.163</td>\n",
       "    </tr>\n",
       "    <tr>\n",
       "      <th>2017-07-21 08:52:06.165</th>\n",
       "      <td>NaN</td>\n",
       "      <td>a7d073fb-c741-4f87-8a43-699462e597a4</td>\n",
       "      <td>NaN</td>\n",
       "      <td>2708.71</td>\n",
       "      <td>canceled</td>\n",
       "      <td>0.200000</td>\n",
       "      <td>buy</td>\n",
       "      <td>NaN</td>\n",
       "      <td>done</td>\n",
       "      <td>2715.35</td>\n",
       "      <td>NaN</td>\n",
       "      <td>2017-07-21 08:52:06.165</td>\n",
       "    </tr>\n",
       "    <tr>\n",
       "      <th>2017-07-21 08:52:06.167</th>\n",
       "      <td>NaN</td>\n",
       "      <td>5936f368-9b87-477e-9adc-83f14a525491</td>\n",
       "      <td>NaN</td>\n",
       "      <td>2708.66</td>\n",
       "      <td>canceled</td>\n",
       "      <td>0.500000</td>\n",
       "      <td>buy</td>\n",
       "      <td>NaN</td>\n",
       "      <td>done</td>\n",
       "      <td>2715.35</td>\n",
       "      <td>NaN</td>\n",
       "      <td>2017-07-21 08:52:06.167</td>\n",
       "    </tr>\n",
       "    <tr>\n",
       "      <th>2017-07-21 08:52:06.168</th>\n",
       "      <td>NaN</td>\n",
       "      <td>71dbb9bf-8a6c-4c0b-8ca2-259d16be43e1</td>\n",
       "      <td>NaN</td>\n",
       "      <td>2708.71</td>\n",
       "      <td>canceled</td>\n",
       "      <td>0.200000</td>\n",
       "      <td>buy</td>\n",
       "      <td>NaN</td>\n",
       "      <td>done</td>\n",
       "      <td>2715.35</td>\n",
       "      <td>NaN</td>\n",
       "      <td>2017-07-21 08:52:06.168</td>\n",
       "    </tr>\n",
       "  </tbody>\n",
       "</table>\n",
       "</div>"
      ],
      "text/plain": [
       "                         funds                              order_id  \\\n",
       "time                                                                   \n",
       "2017-07-21 08:52:06.163    NaN  6fdae78f-f00f-4dee-95f2-0ffb6ca2dfb4   \n",
       "2017-07-21 08:52:06.163    NaN  6fdae78f-f00f-4dee-95f2-0ffb6ca2dfb4   \n",
       "2017-07-21 08:52:06.165    NaN  a7d073fb-c741-4f87-8a43-699462e597a4   \n",
       "2017-07-21 08:52:06.167    NaN  5936f368-9b87-477e-9adc-83f14a525491   \n",
       "2017-07-21 08:52:06.168    NaN  71dbb9bf-8a6c-4c0b-8ca2-259d16be43e1   \n",
       "\n",
       "                        order_type    price    reason  remaining_size side  \\\n",
       "time                                                                         \n",
       "2017-07-21 08:52:06.163      limit  2715.35       NaN             NaN  buy   \n",
       "2017-07-21 08:52:06.163        NaN  2715.35       NaN        0.089439  buy   \n",
       "2017-07-21 08:52:06.165        NaN  2708.71  canceled        0.200000  buy   \n",
       "2017-07-21 08:52:06.167        NaN  2708.66  canceled        0.500000  buy   \n",
       "2017-07-21 08:52:06.168        NaN  2708.71  canceled        0.200000  buy   \n",
       "\n",
       "                             size      type      bid  ask  \\\n",
       "time                                                        \n",
       "2017-07-21 08:52:06.163  0.089439  received  2715.35  NaN   \n",
       "2017-07-21 08:52:06.163       NaN      open  2715.35  NaN   \n",
       "2017-07-21 08:52:06.165       NaN      done  2715.35  NaN   \n",
       "2017-07-21 08:52:06.167       NaN      done  2715.35  NaN   \n",
       "2017-07-21 08:52:06.168       NaN      done  2715.35  NaN   \n",
       "\n",
       "                                           time  \n",
       "time                                             \n",
       "2017-07-21 08:52:06.163 2017-07-21 08:52:06.163  \n",
       "2017-07-21 08:52:06.163 2017-07-21 08:52:06.163  \n",
       "2017-07-21 08:52:06.165 2017-07-21 08:52:06.165  \n",
       "2017-07-21 08:52:06.167 2017-07-21 08:52:06.167  \n",
       "2017-07-21 08:52:06.168 2017-07-21 08:52:06.168  "
      ]
     },
     "execution_count": 5,
     "metadata": {},
     "output_type": "execute_result"
    }
   ],
   "source": [
    "unimp = ['client_oid', 'maker_order_id', 'product_id', 'sequence', 'taker_order_id', 'trade_id',]\n",
    "filtered_data = data.drop(columns=unimp)\n",
    "filtered_data.head()"
   ]
  },
  {
   "cell_type": "code",
   "execution_count": 6,
   "metadata": {},
   "outputs": [
    {
     "data": {
      "text/html": [
       "<div>\n",
       "<style scoped>\n",
       "    .dataframe tbody tr th:only-of-type {\n",
       "        vertical-align: middle;\n",
       "    }\n",
       "\n",
       "    .dataframe tbody tr th {\n",
       "        vertical-align: top;\n",
       "    }\n",
       "\n",
       "    .dataframe thead th {\n",
       "        text-align: right;\n",
       "    }\n",
       "</style>\n",
       "<table border=\"1\" class=\"dataframe\">\n",
       "  <thead>\n",
       "    <tr style=\"text-align: right;\">\n",
       "      <th></th>\n",
       "      <th>funds</th>\n",
       "      <th>price</th>\n",
       "      <th>remaining_size</th>\n",
       "      <th>size</th>\n",
       "      <th>bid</th>\n",
       "      <th>ask</th>\n",
       "      <th>time</th>\n",
       "    </tr>\n",
       "  </thead>\n",
       "  <tbody>\n",
       "    <tr>\n",
       "      <th>count</th>\n",
       "      <td>967.000000</td>\n",
       "      <td>2.167244e+06</td>\n",
       "      <td>1.440404e+06</td>\n",
       "      <td>7.286020e+05</td>\n",
       "      <td>2.169450e+06</td>\n",
       "      <td>2.169409e+06</td>\n",
       "      <td>2169450</td>\n",
       "    </tr>\n",
       "    <tr>\n",
       "      <th>mean</th>\n",
       "      <td>2656.498030</td>\n",
       "      <td>5.081508e+03</td>\n",
       "      <td>1.882042e+00</td>\n",
       "      <td>1.869630e+00</td>\n",
       "      <td>2.740434e+03</td>\n",
       "      <td>2.741192e+03</td>\n",
       "      <td>2017-07-21 11:08:14.238925568</td>\n",
       "    </tr>\n",
       "    <tr>\n",
       "      <th>min</th>\n",
       "      <td>0.079781</td>\n",
       "      <td>1.000000e-02</td>\n",
       "      <td>0.000000e+00</td>\n",
       "      <td>2.800000e-07</td>\n",
       "      <td>2.690000e+03</td>\n",
       "      <td>2.690060e+03</td>\n",
       "      <td>2017-07-21 08:52:06.163000</td>\n",
       "    </tr>\n",
       "    <tr>\n",
       "      <th>25%</th>\n",
       "      <td>143.623360</td>\n",
       "      <td>2.717080e+03</td>\n",
       "      <td>2.000000e-01</td>\n",
       "      <td>2.000000e-01</td>\n",
       "      <td>2.722200e+03</td>\n",
       "      <td>2.722210e+03</td>\n",
       "      <td>2017-07-21 09:54:41.584999936</td>\n",
       "    </tr>\n",
       "    <tr>\n",
       "      <th>50%</th>\n",
       "      <td>629.372023</td>\n",
       "      <td>2.738650e+03</td>\n",
       "      <td>4.277875e-01</td>\n",
       "      <td>4.239567e-01</td>\n",
       "      <td>2.738010e+03</td>\n",
       "      <td>2.738990e+03</td>\n",
       "      <td>2017-07-21 11:08:48.118500096</td>\n",
       "    </tr>\n",
       "    <tr>\n",
       "      <th>75%</th>\n",
       "      <td>2694.905044</td>\n",
       "      <td>2.764370e+03</td>\n",
       "      <td>1.020000e+00</td>\n",
       "      <td>1.013898e+00</td>\n",
       "      <td>2.764810e+03</td>\n",
       "      <td>2.764820e+03</td>\n",
       "      <td>2017-07-21 12:16:57.412499968</td>\n",
       "    </tr>\n",
       "    <tr>\n",
       "      <th>max</th>\n",
       "      <td>80046.384036</td>\n",
       "      <td>1.011515e+08</td>\n",
       "      <td>2.500000e+02</td>\n",
       "      <td>2.500000e+02</td>\n",
       "      <td>2.797270e+03</td>\n",
       "      <td>2.799800e+03</td>\n",
       "      <td>2017-07-21 13:38:22.846000</td>\n",
       "    </tr>\n",
       "    <tr>\n",
       "      <th>std</th>\n",
       "      <td>5818.603427</td>\n",
       "      <td>3.871528e+05</td>\n",
       "      <td>4.542107e+00</td>\n",
       "      <td>4.537349e+00</td>\n",
       "      <td>2.728840e+01</td>\n",
       "      <td>2.736245e+01</td>\n",
       "      <td>NaN</td>\n",
       "    </tr>\n",
       "  </tbody>\n",
       "</table>\n",
       "</div>"
      ],
      "text/plain": [
       "              funds         price  remaining_size          size           bid  \\\n",
       "count    967.000000  2.167244e+06    1.440404e+06  7.286020e+05  2.169450e+06   \n",
       "mean    2656.498030  5.081508e+03    1.882042e+00  1.869630e+00  2.740434e+03   \n",
       "min        0.079781  1.000000e-02    0.000000e+00  2.800000e-07  2.690000e+03   \n",
       "25%      143.623360  2.717080e+03    2.000000e-01  2.000000e-01  2.722200e+03   \n",
       "50%      629.372023  2.738650e+03    4.277875e-01  4.239567e-01  2.738010e+03   \n",
       "75%     2694.905044  2.764370e+03    1.020000e+00  1.013898e+00  2.764810e+03   \n",
       "max    80046.384036  1.011515e+08    2.500000e+02  2.500000e+02  2.797270e+03   \n",
       "std     5818.603427  3.871528e+05    4.542107e+00  4.537349e+00  2.728840e+01   \n",
       "\n",
       "                ask                           time  \n",
       "count  2.169409e+06                        2169450  \n",
       "mean   2.741192e+03  2017-07-21 11:08:14.238925568  \n",
       "min    2.690060e+03     2017-07-21 08:52:06.163000  \n",
       "25%    2.722210e+03  2017-07-21 09:54:41.584999936  \n",
       "50%    2.738990e+03  2017-07-21 11:08:48.118500096  \n",
       "75%    2.764820e+03  2017-07-21 12:16:57.412499968  \n",
       "max    2.799800e+03     2017-07-21 13:38:22.846000  \n",
       "std    2.736245e+01                            NaN  "
      ]
     },
     "execution_count": 6,
     "metadata": {},
     "output_type": "execute_result"
    }
   ],
   "source": [
    "filtered_data.describe()"
   ]
  },
  {
   "cell_type": "code",
   "execution_count": 8,
   "metadata": {},
   "outputs": [
    {
     "data": {
      "image/png": "[encoded data removed]",
      "text/plain": [
       "<Figure size 1200x800 with 9 Axes>"
      ]
     },
     "metadata": {},
     "output_type": "display_data"
    }
   ],
   "source": [
    "filtered_data.hist(bins=50, figsize=(12,8))\n",
    "#looking at the distributions there are multimodal graphs, and we often need to scale it so that the ML model could interpret it better.\n",
    "#But we are using RandomForestClassifier so there is literally no need of scaling and transforming.\n",
    "plt.show()"
   ]
  },
  {
   "cell_type": "code",
   "execution_count": 19,
   "metadata": {},
   "outputs": [
    {
     "name": "stdout",
     "output_type": "stream",
     "text": [
      "There are 714648 flashed orders\n"
     ]
    }
   ],
   "source": [
    "canceled_orders = filtered_data[(filtered_data['type']== 'done') & (filtered_data['reason'] == 'canceled')]\n",
    "\n",
    "matched_orders = filtered_data[filtered_data['type']=='match']['order_id']\n",
    "\n",
    "flashed_orders = canceled_orders[(~canceled_orders['order_id'].isin(matched_orders)) & (canceled_orders['remaining_size'] > 0) ]\n",
    "print(f'There are {len(flashed_orders)} flashed orders')"
   ]
  },
  {
   "cell_type": "code",
   "execution_count": 20,
   "metadata": {},
   "outputs": [
    {
     "name": "stdout",
     "output_type": "stream",
     "text": [
      "There are 718925 resting orders\n"
     ]
    }
   ],
   "source": [
    "# Get the order_ids of open orders\n",
    "open_order_ids = filtered_data[filtered_data['type'] == 'open']['order_id']\n",
    "# Filter the data to include only the open orders\n",
    "open_orders_data = filtered_data[filtered_data['order_id'].isin(open_order_ids)]\n",
    "\n",
    "# Get the resting orders\n",
    "resting_orders = open_orders_data[(open_orders_data['type'] == 'open') | \n",
    "                                  ((open_orders_data['type'] == 'match') & (open_orders_data['remaining_size'] > 0))]\n",
    "\n",
    "print(f\"There are {len(resting_orders)} resting orders\" ) "
   ]
  },
  {
   "cell_type": "code",
   "execution_count": 28,
   "metadata": {},
   "outputs": [],
   "source": [
    "filtered_data.loc[filtered_data['order_id'].isin(flashed_orders['order_id']), 'type'] = 'flashed_order'\n",
    "filtered_data.loc[~filtered_data['order_id'].isin(flashed_orders['order_id']), 'type'] = 'resting_order'"
   ]
  },
  {
   "cell_type": "code",
   "execution_count": 30,
   "metadata": {},
   "outputs": [
    {
     "name": "stdout",
     "output_type": "stream",
     "text": [
      "The total number of orders with type == 'flashed_order': 2139865\n",
      "The total number of orders with type == 'resting_order': 29585\n"
     ]
    },
    {
     "data": {
      "text/plain": [
       "<Axes: >"
      ]
     },
     "execution_count": 30,
     "metadata": {},
     "output_type": "execute_result"
    },
    {
     "data": {
      "image/png": "[encoded data removed]",
      "text/plain": [
       "<Figure size 640x480 with 1 Axes>"
      ]
     },
     "metadata": {},
     "output_type": "display_data"
    }
   ],
   "source": [
    "# Total number of orders with type == 'done'\n",
    "print(f\"The total number of orders with type == 'flashed_order': {len(filtered_data[filtered_data['type'] == 'flashed_order'])}\")\n",
    "\n",
    "# Total number of orders with type == 'match'\n",
    "print(f\"The total number of orders with type == 'resting_order': {len(filtered_data[filtered_data['type'] == 'resting_order'])}\")\n",
    "\n",
    "filtered_data['type'].hist()"
   ]
  },
  {
   "cell_type": "code",
   "execution_count": 46,
   "metadata": {},
   "outputs": [
    {
     "name": "stdout",
     "output_type": "stream",
     "text": [
      "Warning: Only 0 valid order IDs found. Using all of them.\n"
     ]
    },
    {
     "ename": "TypeError",
     "evalue": "unsupported format string passed to Series.__format__",
     "output_type": "error",
     "traceback": [
      "\u001b[1;31m---------------------------------------------------------------------------\u001b[0m",
      "\u001b[1;31mTypeError\u001b[0m                                 Traceback (most recent call last)",
      "Cell \u001b[1;32mIn[46], line 27\u001b[0m\n\u001b[0;32m     25\u001b[0m \u001b[38;5;66;03m# Usage\u001b[39;00m\n\u001b[0;32m     26\u001b[0m avg_lifecycle, individual_lifecycles \u001b[38;5;241m=\u001b[39m compute_avg_lifecycle(filtered_data)\n\u001b[1;32m---> 27\u001b[0m \u001b[38;5;28mprint\u001b[39m(\u001b[38;5;124mf\u001b[39m\u001b[38;5;124m\"\u001b[39m\u001b[38;5;124mAverage lifecycle: \u001b[39m\u001b[38;5;132;01m{\u001b[39;00mavg_lifecycle\u001b[38;5;132;01m:\u001b[39;00m\u001b[38;5;124m.2f\u001b[39m\u001b[38;5;132;01m}\u001b[39;00m\u001b[38;5;124m seconds\u001b[39m\u001b[38;5;124m\"\u001b[39m)\n\u001b[0;32m     28\u001b[0m \u001b[38;5;28mprint\u001b[39m(\u001b[38;5;124m\"\u001b[39m\u001b[38;5;124mIndividual lifecycles:\u001b[39m\u001b[38;5;124m\"\u001b[39m)\n\u001b[0;32m     29\u001b[0m \u001b[38;5;28mprint\u001b[39m(individual_lifecycles)\n",
      "\u001b[1;31mTypeError\u001b[0m: unsupported format string passed to Series.__format__"
     ]
    }
   ],
   "source": [
    "\n",
    "def compute_avg_lifecycle(filtered_data: pd.DataFrame, n: int = 10):\n",
    "    # Step 1: Select random order IDs that have both 'received' and 'done' events\n",
    "    valid_order_ids = filtered_data.groupby('order_id').filter(\n",
    "        lambda x: ('received' in x['type'].values) and ('done' in x['type'].values)\n",
    "    )['order_id'].unique()\n",
    "    \n",
    "    if len(valid_order_ids) < n:\n",
    "        print(f\"Warning: Only {len(valid_order_ids)} valid order IDs found. Using all of them.\")\n",
    "    \n",
    "    random_order_ids = np.random.choice(valid_order_ids, size=min(n, len(valid_order_ids)), replace=False)\n",
    "    \n",
    "    # Step 2: Filter events associated with these order IDs\n",
    "    events_associated = filtered_data[filtered_data['order_id'].isin(random_order_ids)]\n",
    "    \n",
    "    # Step 3: Compute lifecycle\n",
    "    def compute_lifecycle(group):\n",
    "        received_time = group[group['type'] == 'received']['time'].min()\n",
    "        done_time = group[group['type'] == 'done']['time'].max()\n",
    "        return (done_time - received_time).total_seconds()\n",
    "\n",
    "    lifecycles = events_associated.groupby('order_id').apply(compute_lifecycle)\n",
    "    \n",
    "    return lifecycles.mean(), lifecycles\n",
    "\n",
    "# Usage\n",
    "avg_lifecycle, individual_lifecycles = compute_avg_lifecycle(filtered_data)\n",
    "print(f\"Average lifecycle: {avg_lifecycle:.2f} seconds\")\n",
    "print(\"Individual lifecycles:\")\n",
    "print(individual_lifecycles)"
   ]
  },
  {
   "cell_type": "code",
   "execution_count": 26,
   "metadata": {},
   "outputs": [],
   "source": [
    "from sklearn.model_selection import train_test_split\n",
    "\n",
    "strat_train_set, strat_test_set = train_test_split(\n",
    "filtered_data, test_size=0.2, stratify=filtered_data[\"type\"],\n",
    "random_state=42)"
   ]
  },
  {
   "cell_type": "code",
   "execution_count": 27,
   "metadata": {},
   "outputs": [
    {
     "data": {
      "text/plain": [
       "type\n",
       "flashed_order    0.986363\n",
       "normal_order     0.013637\n",
       "Name: count, dtype: float64"
      ]
     },
     "execution_count": 27,
     "metadata": {},
     "output_type": "execute_result"
    }
   ],
   "source": [
    "strat_test_set['type'].value_counts()/len(strat_test_set)"
   ]
  },
  {
   "cell_type": "code",
   "execution_count": null,
   "metadata": {},
   "outputs": [],
   "source": [
    "#convert catoegotical varibales as we are using an ensemble\n",
    "#make the code to find the best market mid price, cumulative volume at those price\n",
    "#levels, then after that I can make an ensemble since this is a binary classification we \n",
    "#will have random forest, then SVM and logistic regression? would that work nopes maybe\n"
   ]
  }
 ],
 "metadata": {
  "kernelspec": {
   "display_name": "Python 3",
   "language": "python",
   "name": "python3"
  },
  "language_info": {
   "codemirror_mode": {
    "name": "ipython",
    "version": 3
   },
   "file_extension": ".py",
   "mimetype": "text/x-python",
   "name": "python",
   "nbconvert_exporter": "python",
   "pygments_lexer": "ipython3",
   "version": "3.11.1"
  }
 },
 "nbformat": 4,
 "nbformat_minor": 2
}
